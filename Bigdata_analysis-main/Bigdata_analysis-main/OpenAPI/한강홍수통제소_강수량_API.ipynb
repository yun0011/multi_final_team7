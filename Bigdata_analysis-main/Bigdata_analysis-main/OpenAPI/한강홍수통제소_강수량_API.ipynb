{
 "cells": [
  {
   "cell_type": "code",
   "execution_count": 2,
   "metadata": {},
   "outputs": [
    {
     "data": {
      "text/html": [
       "<div>\n",
       "<style scoped>\n",
       "    .dataframe tbody tr th:only-of-type {\n",
       "        vertical-align: middle;\n",
       "    }\n",
       "\n",
       "    .dataframe tbody tr th {\n",
       "        vertical-align: top;\n",
       "    }\n",
       "\n",
       "    .dataframe thead th {\n",
       "        text-align: right;\n",
       "    }\n",
       "</style>\n",
       "<table border=\"1\" class=\"dataframe\">\n",
       "  <thead>\n",
       "    <tr style=\"text-align: right;\">\n",
       "      <th></th>\n",
       "      <th>date</th>\n",
       "      <th>drowning</th>\n",
       "      <th>latitude</th>\n",
       "      <th>longitude</th>\n",
       "    </tr>\n",
       "  </thead>\n",
       "  <tbody>\n",
       "    <tr>\n",
       "      <th>0</th>\n",
       "      <td>2023-06-03</td>\n",
       "      <td>1</td>\n",
       "      <td>37.12345</td>\n",
       "      <td>-122.67890</td>\n",
       "    </tr>\n",
       "    <tr>\n",
       "      <th>1</th>\n",
       "      <td>2023-06-04</td>\n",
       "      <td>0</td>\n",
       "      <td>37.54321</td>\n",
       "      <td>-122.34567</td>\n",
       "    </tr>\n",
       "    <tr>\n",
       "      <th>2</th>\n",
       "      <td>2023-06-05</td>\n",
       "      <td>1</td>\n",
       "      <td>37.98765</td>\n",
       "      <td>-121.98765</td>\n",
       "    </tr>\n",
       "  </tbody>\n",
       "</table>\n",
       "</div>"
      ],
      "text/plain": [
       "         date  drowning  latitude  longitude\n",
       "0  2023-06-03         1  37.12345 -122.67890\n",
       "1  2023-06-04         0  37.54321 -122.34567\n",
       "2  2023-06-05         1  37.98765 -121.98765"
      ]
     },
     "execution_count": 2,
     "metadata": {},
     "output_type": "execute_result"
    }
   ],
   "source": [
    "#날짜, 익사여부, 좌표 임시 데이터\n",
    "import pandas as pd\n",
    "\n",
    "data = {\n",
    "    \"date\": [\"2023-06-03\", \"2023-06-04\", \"2023-06-05\"],\n",
    "    \"drowning\": [1, 0, 1],\n",
    "    \"latitude\": [37.12345, 37.54321, 37.98765],\n",
    "    \"longitude\": [-122.67890, -122.34567, -121.98765]\n",
    "}\n",
    "\n",
    "df = pd.DataFrame(data)\n",
    "\n",
    "df"
   ]
  },
  {
   "cell_type": "code",
   "execution_count": 3,
   "metadata": {},
   "outputs": [],
   "source": [
    "#json파일로 변환\n",
    "df.to_json(\"data_ex1.json\", orient=\"records\")"
   ]
  },
  {
   "cell_type": "code",
   "execution_count": 1,
   "metadata": {},
   "outputs": [
    {
     "name": "stdout",
     "output_type": "stream",
     "text": [
      "현재 시간: 202306291420\n",
      "https://api.hrfco.go.kr/52832662-D130-4239-9C5F-730AD3BE6BC6/rainfall/list/10M/1013655/202306291420/202306291420.xml\n",
      "fw 값: 0.0\n"
     ]
    }
   ],
   "source": [
    "#가평교 실시간 강수량 가져오기\n",
    "\n",
    "import requests\n",
    "import xml.etree.ElementTree as ET\n",
    "from datetime import datetime, timedelta\n",
    "\n",
    "# 현재 시간 가져오기\n",
    "current_time = datetime.now()\n",
    "# 현재 시간에서 10분전 시간 가져오기\n",
    "current_time = current_time - timedelta(minutes=10)\n",
    "\n",
    "\n",
    "adjusted_minutes = current_time.minute - (current_time.minute % 10) \n",
    "current_time = current_time.replace(minute=adjusted_minutes).strftime(\"%Y%m%d%H%M\")  # 예: \"202306261630\"\n",
    "\n",
    "\n",
    "\n",
    "print(f\"현재 시간: {current_time}\")\n",
    "\n",
    "api_key = \"52832662-D130-4239-9C5F-730AD3BE6BC6\"\n",
    "waterlevel_url = f\"https://api.hrfco.go.kr/{api_key}/rainfall/list/10M/1013655/{current_time}/{current_time}.xml\"\n",
    "\n",
    "print(waterlevel_url)\n",
    "response = requests.get(waterlevel_url)\n",
    "xml_data = response.content\n",
    "\n",
    "# XML 파싱\n",
    "root = ET.fromstring(xml_data)\n",
    "waterlevel_element = root.find(\".//Rainfall\")\n",
    "\n",
    "fw_value = waterlevel_element.find(\"rf\").text\n",
    "\n",
    "print(f\"fw 값: {fw_value}\")"
   ]
  }
 ],
 "metadata": {
  "kernelspec": {
   "display_name": "Python 3",
   "language": "python",
   "name": "python3"
  },
  "language_info": {
   "codemirror_mode": {
    "name": "ipython",
    "version": 3
   },
   "file_extension": ".py",
   "mimetype": "text/x-python",
   "name": "python",
   "nbconvert_exporter": "python",
   "pygments_lexer": "ipython3",
   "version": "3.11.4"
  },
  "orig_nbformat": 4
 },
 "nbformat": 4,
 "nbformat_minor": 2
}
